{
 "cells": [
  {
   "cell_type": "code",
   "execution_count": 0,
   "metadata": {
    "application/vnd.databricks.v1+cell": {
     "cellMetadata": {
      "byteLimit": 2048000,
      "rowLimit": 10000
     },
     "inputWidgets": {},
     "nuid": "c3d6adad-d87d-4965-9b12-e7495cd2804f",
     "showTitle": false,
     "tableResultSettingsMap": {},
     "title": ""
    }
   },
   "outputs": [],
   "source": [
    "from pyspark.sql import SparkSession, functions as F\n",
    "\n",
    "\n",
    "spark = SparkSession.builder.appName(\"GuestIngestion\").getOrCreate()\n",
    "\n",
    "\n",
    "\n",
    "guest_df = spark.read.option(\"recursiveFileLookup\", \"true\").parquet(\"/mnt/bronze/guests\")\n",
    "required_columns = ['GUEST_NAME', 'EMAIL_ADDRESS', 'GUEST_NUMBER', 'PHONE_NUM', 'STREET_ADDRESS', 'DATE', 'STATE','CreateDate_TS']\n",
    "\n",
    "\n",
    "guest_df = guest_df.select(*required_columns)\n",
    "for col_name in required_columns:\n",
    "    guest_df = guest_df.withColumnRenamed(col_name, col_name.lower())\n",
    "\n",
    "    \n",
    "guest_df = guest_df.withColumn(\"guest_date\", F.to_date(F.col(\"date\")))\n",
    "guest_df = guest_df.withColumn(\n",
    "    \"hash_code\",\n",
    "    F.sha2(F.concat_ws(\"||\", \"guest_name\", \"guest_number\"), 256)\n",
    ")\n",
    "\n",
    "\n",
    "guest_df.createOrReplaceTempView(\"guests\")\n"
   ]
  },
  {
   "cell_type": "code",
   "execution_count": 0,
   "metadata": {
    "application/vnd.databricks.v1+cell": {
     "cellMetadata": {
      "byteLimit": 2048000,
      "rowLimit": 10000
     },
     "inputWidgets": {},
     "nuid": "1dc3409d-b232-44e6-909c-1443d1f51989",
     "showTitle": false,
     "tableResultSettingsMap": {},
     "title": ""
    }
   },
   "outputs": [],
   "source": [
    "print(guest_df.count())"
   ]
  },
  {
   "cell_type": "code",
   "execution_count": 0,
   "metadata": {
    "application/vnd.databricks.v1+cell": {
     "cellMetadata": {
      "byteLimit": 2048000,
      "rowLimit": 10000
     },
     "inputWidgets": {},
     "nuid": "eaedadd0-d4d2-47f6-a417-e1202f341546",
     "showTitle": false,
     "tableResultSettingsMap": {
      "0": {
       "dataGridStateBlob": "{\"version\":1,\"tableState\":{\"columnPinning\":{\"left\":[\"#row_number#\"],\"right\":[]},\"columnSizing\":{},\"columnVisibility\":{}},\"settings\":{\"columns\":{}},\"syncTimestamp\":1752093044387}",
       "filterBlob": null,
       "queryPlanFiltersBlob": null,
       "tableResultIndex": 0
      }
     },
     "title": ""
    }
   },
   "outputs": [],
   "source": [
    "guest_df.display()"
   ]
  },
  {
   "cell_type": "code",
   "execution_count": 0,
   "metadata": {
    "application/vnd.databricks.v1+cell": {
     "cellMetadata": {
      "byteLimit": 2048000,
      "implicitDf": true,
      "rowLimit": 10000
     },
     "inputWidgets": {},
     "nuid": "b3dcea7a-a086-4abd-99ee-554dd10ec0e5",
     "showTitle": false,
     "tableResultSettingsMap": {},
     "title": ""
    }
   },
   "outputs": [],
   "source": [
    "%sql\n",
    "CREATE SCHEMA IF NOT EXISTS silver; CREATE TABLE IF NOT EXISTS silver.guests (\n",
    "    guest_name string,\n",
    "    email string,\n",
    "    guest_number string,  \n",
    "    phone_number string,\n",
    "    street_address string,\n",
    "    guest_date date,\n",
    "    state string,\n",
    "    is_current boolean,\n",
    "    audit_ts timestamp,\n",
    "    hash_code string\n",
    "\n",
    "    );\n",
    "    \n",
    "TRUNCATE TABLE silver.guests\n",
    "\n",
    "\n",
    "\n"
   ]
  },
  {
   "cell_type": "code",
   "execution_count": 0,
   "metadata": {
    "application/vnd.databricks.v1+cell": {
     "cellMetadata": {},
     "inputWidgets": {},
     "nuid": "23c02196-4385-44a4-b500-fda68127d02a",
     "showTitle": false,
     "tableResultSettingsMap": {},
     "title": ""
    }
   },
   "outputs": [],
   "source": [
    "%sql\n",
    "MERGE INTO silver.guests AS target\n",
    "USING guests AS source\n",
    "ON target.hash_code  = source.hash_code  AND target.is_current = true\n",
    "WHEN MATCHED AND (\n",
    "target.phone_number != source.phone_num OR \n",
    "target.email != source.email_address OR\n",
    "target.guest_date != source.guest_date OR\n",
    "target.street_address != source.street_address)\n",
    "THEN\n",
    "UPDATE SET\n",
    "target.is_current = false,\n",
    "target.audit_ts = current_timestamp()\n",
    "\n",
    "\n",
    "\n"
   ]
  },
  {
   "cell_type": "code",
   "execution_count": 0,
   "metadata": {
    "application/vnd.databricks.v1+cell": {
     "cellMetadata": {},
     "inputWidgets": {},
     "nuid": "260cbcab-1fe0-4809-afc1-b4fa57e6c950",
     "showTitle": false,
     "tableResultSettingsMap": {},
     "title": ""
    }
   },
   "outputs": [],
   "source": [
    "%sql\n",
    "MERGE INTO\n",
    "  silver.guests AS target\n",
    "USING\n",
    "  guests AS source\n",
    "ON\n",
    "  target.hash_code  = source.hash_code\n",
    "\n",
    "WHEN NOT MATCHED THEN INSERT (\n",
    "    guest_name,\n",
    "    email,\n",
    "    guest_number,\n",
    "    phone_number,\n",
    "    street_address,\n",
    "    guest_date,\n",
    "    state,\n",
    "    is_current,\n",
    "    audit_ts,\n",
    "    hash_code\n",
    "  )\n",
    "  Values\n",
    "  (\n",
    "    source.guest_name,\n",
    "    source.email_address,\n",
    "    source.guest_number,\n",
    "    source.phone_num,\n",
    "    source.street_address,\n",
    "    source.guest_date,\n",
    "    source.state,\n",
    "    true,\n",
    "    current_timestamp(),\n",
    "    hash_code\n",
    "\n",
    "  )\n",
    "  "
   ]
  },
  {
   "cell_type": "code",
   "execution_count": 0,
   "metadata": {
    "application/vnd.databricks.v1+cell": {
     "cellMetadata": {},
     "inputWidgets": {},
     "nuid": "cd3e471a-8bab-4fa8-a0bb-993eb97718fd",
     "showTitle": false,
     "tableResultSettingsMap": {},
     "title": ""
    }
   },
   "outputs": [],
   "source": [
    "%sql\n",
    "Select * from silver.guests   "
   ]
  },
  {
   "cell_type": "markdown",
   "metadata": {
    "application/vnd.databricks.v1+cell": {
     "cellMetadata": {},
     "inputWidgets": {},
     "nuid": "6a2f3690-3970-42dc-9b89-56bfded9727b",
     "showTitle": false,
     "tableResultSettingsMap": {},
     "title": ""
    }
   },
   "source": []
  },
  {
   "cell_type": "code",
   "execution_count": 0,
   "metadata": {
    "application/vnd.databricks.v1+cell": {
     "cellMetadata": {},
     "inputWidgets": {},
     "nuid": "04f132ad-10cb-4a16-9264-fd05c5ec9b7f",
     "showTitle": false,
     "tableResultSettingsMap": {},
     "title": ""
    }
   },
   "outputs": [],
   "source": [
    "business_key = [\"GUEST_NUMBER\", \"GUEST_NAME\", \"PHONE_NUM\"]\n",
    "\n"
   ]
  }
 ],
 "metadata": {
  "application/vnd.databricks.v1+notebook": {
   "computePreferences": null,
   "dashboards": [],
   "environmentMetadata": null,
   "inputWidgetPreferences": null,
   "language": "python",
   "notebookMetadata": {
    "mostRecentlyExecutedCommandWithImplicitDF": {
     "commandId": 8591292740359224,
     "dataframes": [
      "_sqldf"
     ]
    },
    "pythonIndentUnit": 4
   },
   "notebookName": "01_Bronze_Layer",
   "widgets": {}
  },
  "language_info": {
   "name": "python"
  }
 },
 "nbformat": 4,
 "nbformat_minor": 0
}
