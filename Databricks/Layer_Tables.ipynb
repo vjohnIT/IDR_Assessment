{
 "cells": [
  {
   "cell_type": "code",
   "execution_count": 0,
   "metadata": {
    "application/vnd.databricks.v1+cell": {
     "cellMetadata": {},
     "inputWidgets": {},
     "nuid": "01808003-4514-4add-9097-f2c7c93481c5",
     "showTitle": false,
     "tableResultSettingsMap": {},
     "title": ""
    }
   },
   "outputs": [],
   "source": [
    "# Create the required Tables\n",
    "\n",
    "%sql\n",
    "CREATE SCHEMA IF NOT EXISTS silver; CREATE TABLE IF NOT EXISTS silver.guests (\n",
    "    guest_name string,\n",
    "    email string,\n",
    "    guest_number string,  \n",
    "    phone_number string,\n",
    "    street_address string,\n",
    "    guest_date date,\n",
    "    state string,\n",
    "    is_current boolean,\n",
    "    audit_ts timestamp,\n",
    "    hash_code string\n",
    "\n",
    "    ) USING DELTA\n",
    "LOCATION '/mnt/silver/guests/';\n",
    "    \n",
    "TRUNCATE TABLE silver.guests"
   ]
  },
  {
   "cell_type": "code",
   "execution_count": 0,
   "metadata": {
    "application/vnd.databricks.v1+cell": {
     "cellMetadata": {},
     "inputWidgets": {},
     "nuid": "4f6e7260-c839-432e-90ec-a3fd3244be0c",
     "showTitle": false,
     "tableResultSettingsMap": {},
     "title": ""
    }
   },
   "outputs": [],
   "source": [
    "CREATE SCHEMA IF NOT EXISTS gold; CREATE TABLE IF NOT EXISTS gold.Dim_guests (\n",
    "    guest_name string,\n",
    "    email string,\n",
    "    guest_number string,  \n",
    "    phone_number string,\n",
    "    street_address string,\n",
    "    guest_date date,\n",
    "    state string,\n",
    "    createdate timestamp\n",
    "\n",
    "    ) USING DELTA\n",
    "LOCATION '/mnt/gold/Dim_guests/';\n",
    "    \n",
    "TRUNCATE TABLE gold.Dim_guests;"
   ]
  }
 ],
 "metadata": {
  "application/vnd.databricks.v1+notebook": {
   "computePreferences": null,
   "dashboards": [],
   "environmentMetadata": {
    "base_environment": "",
    "environment_version": "2"
   },
   "inputWidgetPreferences": null,
   "language": "python",
   "notebookMetadata": {
    "pythonIndentUnit": 4
   },
   "notebookName": "Layer_Tables",
   "widgets": {}
  },
  "language_info": {
   "name": "python"
  }
 },
 "nbformat": 4,
 "nbformat_minor": 0
}
