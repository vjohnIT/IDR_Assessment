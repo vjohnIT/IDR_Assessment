{
 "cells": [
  {
   "cell_type": "code",
   "execution_count": 0,
   "metadata": {
    "application/vnd.databricks.v1+cell": {
     "cellMetadata": {
      "byteLimit": 2048000,
      "rowLimit": 10000
     },
     "inputWidgets": {},
     "nuid": "1ac0499d-e6d7-45d0-829d-8ad03286682b",
     "showTitle": false,
     "tableResultSettingsMap": {},
     "title": ""
    }
   },
   "outputs": [],
   "source": [
    "from pyspark.sql import functions as F\n",
    "from pyspark.sql.window import Window\n",
    "\n",
    "\n",
    "silver_df = spark.table(\"silver.guests_validated\")\n",
    "\n",
    "\n",
    "dim_guests_df = \n",
    "    silver_df\n",
    "         .filter(F.col(\"data_valid\") == True)\n",
    "         .select(\n",
    "         \"guest_name\",\n",
    "         \"email\",\n",
    "         \"guest_number\",\n",
    "         \"phone_number\",\n",
    "         \"street_address\",\n",
    "         \"guest_date\",\n",
    "         \"state\"\n",
    "      )\n",
    "      .dropDuplicates()\n",
    "      .withColumn(\n",
    "        \"guest_sk\",\n",
    "        F.row_number()\n",
    "         .over(Window.orderBy(\"guest_number\"))\n",
    "      )\n",
    "      .select(\"guest_sk\", \"guest_name\",\n",
    "         \"email\",\n",
    "         \"guest_number\",\n",
    "         \"phone_number\",\n",
    "         \"street_address\",\n",
    "         \"guest_date\",\n",
    "         \"state\")\n"
   ]
  },
  {
   "cell_type": "code",
   "execution_count": 0,
   "metadata": {
    "application/vnd.databricks.v1+cell": {
     "cellMetadata": {
      "byteLimit": 2048000,
      "implicitDf": true,
      "rowLimit": 10000
     },
     "inputWidgets": {},
     "nuid": "9b220f08-d256-4c6b-ac10-326813a3fa77",
     "showTitle": false,
     "tableResultSettingsMap": {},
     "title": ""
    }
   },
   "outputs": [],
   "source": [
    "%sql SELECT current_catalog(), current_schema();"
   ]
  },
  {
   "cell_type": "code",
   "execution_count": 0,
   "metadata": {
    "application/vnd.databricks.v1+cell": {
     "cellMetadata": {
      "byteLimit": 2048000,
      "rowLimit": 10000
     },
     "inputWidgets": {},
     "nuid": "1f35043d-1310-45cd-9b2b-cc3f52844e23",
     "showTitle": false,
     "tableResultSettingsMap": {},
     "title": ""
    }
   },
   "outputs": [],
   "source": [
    "spark.sql(\"CREATE SCHEMA IF NOT EXISTS gold\")"
   ]
  },
  {
   "cell_type": "code",
   "execution_count": 0,
   "metadata": {
    "application/vnd.databricks.v1+cell": {
     "cellMetadata": {
      "byteLimit": 2048000,
      "rowLimit": 10000
     },
     "inputWidgets": {},
     "nuid": "daa3b05d-1cc9-488a-82e1-2badf383a850",
     "showTitle": false,
     "tableResultSettingsMap": {},
     "title": ""
    }
   },
   "outputs": [],
   "source": [
    "dim_guests_df.write.format(\"delta\") \\\n",
    "    .mode(\"overwrite\") \\\n",
    "    .option(\"overwriteSchema\", True) \\\n",
    "    .option(\"path\", \"/mnt/gold/dim_guests/\") \\\n",
    "    .saveAsTable(\"gold.dim_guests\")\n",
    "\n",
    "\n"
   ]
  },
  {
   "cell_type": "code",
   "execution_count": 0,
   "metadata": {
    "application/vnd.databricks.v1+cell": {
     "cellMetadata": {
      "byteLimit": 2048000,
      "rowLimit": 10000
     },
     "inputWidgets": {},
     "nuid": "d0097096-935a-42af-8901-f7f77b017bd5",
     "showTitle": false,
     "tableResultSettingsMap": {},
     "title": ""
    }
   },
   "outputs": [],
   "source": [
    "fact_state_df = (\n",
    "        dim_guests_df.\n",
    "        groupBy(\"state\")\n",
    "        .agg(F.count(\"guest_sk\").alias(\"guest_count\"))\n",
    "        .withColumn(\"fact_state_sk\",F.monotonically_increasing_id()+1 )\n",
    "        .select(\"fact_state_sk\", \"state\",\"guest_count\")\n",
    ")\n",
    "\n",
    "fact_state_df.write.format(\"delta\").mode(\"overwrite\").option(\"overwriteSchema\",True)\\\n",
    "    .option(\"path\",\"/mnt/gold/fact_state/\")\\\n",
    "    .saveAsTable(\"gold.fact_state\")\n",
    "\n",
    "\n",
    "\n"
   ]
  },
  {
   "cell_type": "code",
   "execution_count": 0,
   "metadata": {
    "application/vnd.databricks.v1+cell": {
     "cellMetadata": {
      "byteLimit": 2048000,
      "implicitDf": true,
      "rowLimit": 10000
     },
     "inputWidgets": {},
     "nuid": "2527352b-8179-4d7e-a661-d46048bc8d43",
     "showTitle": false,
     "tableResultSettingsMap": {},
     "title": ""
    }
   },
   "outputs": [],
   "source": [
    "%sql\n",
    "SELECT guest_number, COUNT(DISTINCT guest_name) AS unique_guest_names\n",
    "FROM gold.dim_guests\n",
    "GROUP BY guest_number;"
   ]
  },
  {
   "cell_type": "code",
   "execution_count": 0,
   "metadata": {
    "application/vnd.databricks.v1+cell": {
     "cellMetadata": {
      "byteLimit": 2048000,
      "implicitDf": true,
      "rowLimit": 10000
     },
     "inputWidgets": {},
     "nuid": "15a970c3-efd2-439c-939e-5944bcc31df5",
     "showTitle": false,
     "tableResultSettingsMap": {},
     "title": ""
    }
   },
   "outputs": [],
   "source": [
    "%sql\n",
    "SELECT\n",
    "    guest_number,\n",
    "    COUNT(DISTINCT guest_name) AS unique_guest_names,\n",
    "    ROUND(\n",
    "        (COUNT(DISTINCT guest_name) * 100.0) / SUM(COUNT(DISTINCT guest_name)) OVER (),\n",
    "        2\n",
    "    ) AS percentage_of_total\n",
    "FROM gold.dim_guests\n",
    "GROUP BY guest_number;\n"
   ]
  },
  {
   "cell_type": "code",
   "execution_count": 0,
   "metadata": {
    "application/vnd.databricks.v1+cell": {
     "cellMetadata": {
      "byteLimit": 2048000,
      "implicitDf": true,
      "rowLimit": 10000
     },
     "inputWidgets": {},
     "nuid": "fc025781-5bff-4ad7-9057-e1d30b976656",
     "showTitle": false,
     "tableResultSettingsMap": {},
     "title": ""
    }
   },
   "outputs": [],
   "source": [
    "%sql\n",
    "WITH guest_counts AS (\n",
    "    SELECT\n",
    "        guest_number,\n",
    "        COUNT(*) AS guest_number_count\n",
    "    FROM gold.dim_guests\n",
    "    GROUP BY guest_number\n",
    "),\n",
    "total_counts AS (\n",
    "    SELECT\n",
    "        SUM(guest_number_count) AS total_guest_numbers\n",
    "    FROM guest_counts\n",
    ")\n",
    "SELECT\n",
    "    g.guest_number,\n",
    "    g.guest_number_count,\n",
    "    ROUND((g.guest_number_count * 100.0) / t.total_guest_numbers, 2) AS percentage_of_total\n",
    "FROM guest_counts g\n",
    "CROSS JOIN total_counts t\n",
    "ORDER BY percentage_of_total DESC;\n"
   ]
  },
  {
   "cell_type": "code",
   "execution_count": 0,
   "metadata": {
    "application/vnd.databricks.v1+cell": {
     "cellMetadata": {
      "byteLimit": 2048000,
      "implicitDf": true,
      "rowLimit": 10000
     },
     "inputWidgets": {},
     "nuid": "c2d2bbc0-6ed2-4c37-9af3-4fba32476a4b",
     "showTitle": false,
     "tableResultSettingsMap": {},
     "title": ""
    }
   },
   "outputs": [],
   "source": [
    "%sql\n",
    "SELECT\n",
    "    guest_number,\n",
    "    COUNT(*) AS guest_number_count,\n",
    "    ROUND(\n",
    "        COUNT(*) * 100.0 / SUM(COUNT(*)) OVER (),\n",
    "        2\n",
    "    ) AS percentage_of_total\n",
    "FROM gold.dim_guests\n",
    "GROUP BY guest_number\n",
    "ORDER BY percentage_of_total DESC LIMIT 10 ;\n"
   ]
  },
  {
   "cell_type": "code",
   "execution_count": 0,
   "metadata": {
    "application/vnd.databricks.v1+cell": {
     "cellMetadata": {
      "byteLimit": 2048000,
      "implicitDf": true,
      "rowLimit": 10000
     },
     "inputWidgets": {},
     "nuid": "03f3231d-6c54-4f9a-b04d-cb7894ace7b7",
     "showTitle": false,
     "tableResultSettingsMap": {},
     "title": ""
    }
   },
   "outputs": [],
   "source": [
    "%sql\n",
    "SELECT\n",
    "    COUNT(DISTINCT guest_number) AS unique_guest_number_count,\n",
    "    COUNT(*) AS total_record_count,\n",
    "    ROUND(\n",
    "        (COUNT(DISTINCT guest_number) * 100.0) / COUNT(*),\n",
    "        2\n",
    "    ) AS percentage_of_unique_guest_numbers\n",
    "FROM gold.dim_guests;"
   ]
  },
  {
   "cell_type": "code",
   "execution_count": 0,
   "metadata": {
    "application/vnd.databricks.v1+cell": {
     "cellMetadata": {
      "byteLimit": 2048000,
      "implicitDf": true,
      "rowLimit": 10000
     },
     "inputWidgets": {},
     "nuid": "9d60eee5-0bc7-4262-ac90-84d5495219c6",
     "showTitle": false,
     "tableResultSettingsMap": {},
     "title": ""
    }
   },
   "outputs": [],
   "source": [
    "%sql\n",
    "SELECT\n",
    "    COUNT(DISTINCT guest_name) AS unique_guest_names_count,\n",
    "  \n",
    "    ROUND(\n",
    "        (COUNT(DISTINCT guest_name) * 100.0) / COUNT(*),\n",
    "        2\n",
    "    ) AS percentage_of_unique_guest_numbers\n",
    "FROM gold.dim_guests;"
   ]
  },
  {
   "cell_type": "code",
   "execution_count": 0,
   "metadata": {
    "application/vnd.databricks.v1+cell": {
     "cellMetadata": {
      "byteLimit": 2048000,
      "implicitDf": true,
      "rowLimit": 10000
     },
     "inputWidgets": {},
     "nuid": "42da5c9f-3094-43bb-a872-d24ace6a69f6",
     "showTitle": false,
     "tableResultSettingsMap": {},
     "title": ""
    }
   },
   "outputs": [],
   "source": [
    "%sql\n",
    "SELECT\n",
    "    COUNT(DISTINCT email) AS unique_email_count,\n",
    "  \n",
    "    ROUND((COUNT(DISTINCT email) * 100.0) / COUNT(*),2\n",
    "    ) AS percentage_of_unique_guest_numbers\n",
    "FROM gold.dim_guests;"
   ]
  },
  {
   "cell_type": "code",
   "execution_count": 0,
   "metadata": {
    "application/vnd.databricks.v1+cell": {
     "cellMetadata": {
      "byteLimit": 2048000,
      "implicitDf": true,
      "rowLimit": 10000
     },
     "inputWidgets": {},
     "nuid": "124b2719-ccf6-4450-bdf7-7a8b316225ca",
     "showTitle": false,
     "tableResultSettingsMap": {},
     "title": ""
    }
   },
   "outputs": [],
   "source": [
    "%sql\n",
    "SELECT\n",
    "    COUNT(DISTINCT phone_number) AS unique_email_count,\n",
    "  \n",
    "    ROUND(\n",
    "        (COUNT(DISTINCT phone_number) * 100.0) / COUNT(*),\n",
    "        2\n",
    "    ) AS percentage_of_unique_guest_numbers\n",
    "FROM gold.dim_guests;"
   ]
  },
  {
   "cell_type": "code",
   "execution_count": 0,
   "metadata": {
    "application/vnd.databricks.v1+cell": {
     "cellMetadata": {
      "byteLimit": 2048000,
      "implicitDf": true,
      "rowLimit": 10000
     },
     "inputWidgets": {},
     "nuid": "8d97e325-d591-4abb-92c8-0af4f5619bce",
     "showTitle": false,
     "tableResultSettingsMap": {},
     "title": ""
    }
   },
   "outputs": [],
   "source": [
    "%sql\n",
    "SELECT\n",
    "    COUNT(DISTINCT street_address) AS unique_street_address_count,\n",
    "  \n",
    "    ROUND(\n",
    "        (COUNT(DISTINCT street_address) * 100.0) / COUNT(*),\n",
    "        2\n",
    "    ) AS percentage_of_unique_street_address\n",
    "FROM gold.dim_guests;"
   ]
  },
  {
   "cell_type": "code",
   "execution_count": 0,
   "metadata": {
    "application/vnd.databricks.v1+cell": {
     "cellMetadata": {
      "byteLimit": 2048000,
      "implicitDf": true,
      "rowLimit": 10000
     },
     "inputWidgets": {},
     "nuid": "292f57cc-051e-4d56-8059-2d656f1fea79",
     "showTitle": false,
     "tableResultSettingsMap": {},
     "title": ""
    }
   },
   "outputs": [],
   "source": [
    "%sql\n",
    "SELECT street_address, COUNT(*) AS occurrences\n",
    "FROM gold.dim_guests\n",
    "GROUP BY street_address\n",
    "HAVING COUNT(*) > 1\n",
    "ORDER BY occurrences DESC\n",
    "LIMIT 20;"
   ]
  },
  {
   "cell_type": "code",
   "execution_count": 0,
   "metadata": {
    "application/vnd.databricks.v1+cell": {
     "cellMetadata": {
      "byteLimit": 2048000,
      "implicitDf": true,
      "rowLimit": 10000
     },
     "inputWidgets": {},
     "nuid": "b260d80c-534c-4055-9f4a-b1771dd66802",
     "showTitle": false,
     "tableResultSettingsMap": {},
     "title": ""
    }
   },
   "outputs": [],
   "source": [
    "%sql\n",
    "SELECT\n",
    "   \n",
    "    (SELECT COUNT(DISTINCT guest_number) FROM gold.dim_guests) AS distinct_guest_numbers,\n",
    "    (SELECT COUNT(DISTINCT email) FROM gold.dim_guests) AS distinct_emails,\n",
    "    (SELECT COUNT(DISTINCT phone_number) FROM gold.dim_guests) AS distinct_phone_numbers,\n",
    "\n",
    "    -- Top 3 guest numbers \n",
    "    (\n",
    "        SELECT array_join(array_agg(guest_number), ', ')\n",
    "        FROM (\n",
    "            SELECT guest_number\n",
    "            FROM gold.dim_guests\n",
    "            GROUP BY guest_number\n",
    "            ORDER BY COUNT(*) DESC\n",
    "            LIMIT 3\n",
    "        )\n",
    "    ) AS top_3_guest_numbers,\n",
    "\n",
    "    -- Top 3 emails\n",
    "    (\n",
    "        SELECT array_join(array_agg(email), ', ')\n",
    "        FROM (\n",
    "            SELECT email\n",
    "            FROM gold.dim_guests\n",
    "            GROUP BY email\n",
    "            ORDER BY COUNT(*) DESC\n",
    "            LIMIT 3\n",
    "        )\n",
    "    ) AS top_3_emails,\n",
    "\n",
    "     (\n",
    "        SELECT array_join(array_agg(guest_name), ', ')\n",
    "        FROM (\n",
    "            SELECT guest_name\n",
    "            FROM gold.dim_guests\n",
    "            GROUP BY guest_name\n",
    "            ORDER BY COUNT(*) DESC\n",
    "            LIMIT 3\n",
    "        )\n",
    "    ) AS top_3_guest_names,\n",
    "\n",
    "    -- Top 3 phone numbers\n",
    "    (\n",
    "        SELECT array_join(array_agg(phone_number), ', ')\n",
    "        FROM (\n",
    "            SELECT phone_number\n",
    "            FROM gold.dim_guests\n",
    "            GROUP BY phone_number\n",
    "            ORDER BY COUNT(*) DESC\n",
    "            LIMIT 3\n",
    "        )\n",
    "    ) AS top_3_phone_numbers"
   ]
  }
 ],
 "metadata": {
  "application/vnd.databricks.v1+notebook": {
   "computePreferences": null,
   "dashboards": [],
   "environmentMetadata": {
    "base_environment": "",
    "environment_version": "2"
   },
   "inputWidgetPreferences": null,
   "language": "python",
   "notebookMetadata": {
    "mostRecentlyExecutedCommandWithImplicitDF": {
     "commandId": 8591292740359220,
     "dataframes": [
      "_sqldf"
     ]
    },
    "pythonIndentUnit": 4
   },
   "notebookName": "Gold_Layer",
   "widgets": {}
  },
  "language_info": {
   "name": "python"
  }
 },
 "nbformat": 4,
 "nbformat_minor": 0
}
